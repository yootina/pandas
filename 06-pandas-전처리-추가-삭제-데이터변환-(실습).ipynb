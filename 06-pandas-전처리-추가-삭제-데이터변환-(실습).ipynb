{
 "cells": [
  {
   "cell_type": "markdown",
   "metadata": {},
   "source": [
    "## 모듈 import"
   ]
  },
  {
   "cell_type": "code",
   "execution_count": null,
   "metadata": {
    "id": "RGhyFtVF0F0m"
   },
   "outputs": [],
   "source": [
    "from IPython.display import Image\n",
    "import numpy as np\n",
    "import pandas as pd\n",
    "import seaborn as sns"
   ]
  },
  {
   "cell_type": "markdown",
   "metadata": {},
   "source": [
    "## 데이터셋 로드"
   ]
  },
  {
   "cell_type": "code",
   "execution_count": null,
   "metadata": {},
   "outputs": [],
   "source": [
    "df = sns.load_dataset('titanic')\n",
    "df.head()"
   ]
  },
  {
   "cell_type": "markdown",
   "metadata": {},
   "source": [
    "**컬럼(columns) 설명**\n",
    "\n",
    "- survivied: 생존여부 (1: 생존, 0: 사망)\n",
    "- pclass: 좌석 등급 (1등급, 2등급, 3등급)\n",
    "- sex: 성별\n",
    "- age: 나이\n",
    "- sibsp: 형제 + 배우자 수\n",
    "- parch: 부모 + 자녀 수\n",
    "- fare: 좌석 요금\n",
    "- embarked: 탑승 항구 (S, C, Q)\n",
    "- class: pclass와 동일\n",
    "- who: 성별과 동일\n",
    "- adult_male: 성인 남자 여부\n",
    "- deck: 데크 번호 (알파벳 + 숫자 혼용)\n",
    "- embark_town: 탑승 항구 이름\n",
    "- alive: 생존여부 (yes, no)\n",
    "- alone: 혼자 탑승 여부"
   ]
  },
  {
   "cell_type": "markdown",
   "metadata": {
    "id": "1Oges8AnGvyF"
   },
   "source": [
    "## 새로운 컬럼 추가"
   ]
  },
  {
   "cell_type": "code",
   "execution_count": null,
   "metadata": {
    "id": "tq8lG13sGvyG"
   },
   "outputs": [],
   "source": [
    "df1 = df.copy()"
   ]
  },
  {
   "cell_type": "code",
   "execution_count": null,
   "metadata": {
    "colab": {
     "base_uri": "https://localhost:8080/",
     "height": 198
    },
    "id": "yYPQh6RSGvyH",
    "outputId": "b3ec0559-4a54-4210-89fe-e8c719deee99"
   },
   "outputs": [],
   "source": [
    "df1.head()"
   ]
  },
  {
   "cell_type": "markdown",
   "metadata": {
    "id": "-loeBjaEGvyI"
   },
   "source": [
    "임의의 값을 **대입**하여 새로운 컬럼을 추가할 수 있습니다."
   ]
  },
  {
   "cell_type": "code",
   "execution_count": null,
   "metadata": {
    "id": "X1jvWPH6GvyK"
   },
   "outputs": [],
   "source": [
    "df1['VIP'] = True"
   ]
  },
  {
   "cell_type": "code",
   "execution_count": null,
   "metadata": {
    "colab": {
     "base_uri": "https://localhost:8080/",
     "height": 198
    },
    "id": "0x-9hSeqGvyL",
    "outputId": "578cf21e-7167-4708-bd61-0c3e8f6b8fe1"
   },
   "outputs": [],
   "source": [
    "df1.head()"
   ]
  },
  {
   "cell_type": "markdown",
   "metadata": {
    "id": "GlaoeTESGvyb"
   },
   "source": [
    "## 삭제\n",
    "\n",
    "삭제는 **행(row) 삭제와 열(column) 삭제**로 구분할 수 있습니다."
   ]
  },
  {
   "cell_type": "markdown",
   "metadata": {
    "id": "nAeuonzYGvyb"
   },
   "source": [
    "### 행 (row) 삭제"
   ]
  },
  {
   "cell_type": "markdown",
   "metadata": {},
   "source": [
    "행 삭제시 **index를 지정하여 삭제**합니다."
   ]
  },
  {
   "cell_type": "code",
   "execution_count": null,
   "metadata": {
    "colab": {
     "base_uri": "https://localhost:8080/",
     "height": 407
    },
    "id": "1uUZwCDkGvyb",
    "outputId": "e5614983-030b-4f5a-b0ba-20c50973c756"
   },
   "outputs": [],
   "source": [
    "df1.drop(1)"
   ]
  },
  {
   "cell_type": "markdown",
   "metadata": {},
   "source": [
    "행 삭제시 **범위를 지정하여 삭제**할 수 있습니다."
   ]
  },
  {
   "cell_type": "code",
   "execution_count": null,
   "metadata": {
    "colab": {
     "base_uri": "https://localhost:8080/",
     "height": 407
    },
    "id": "KCT57Nl-Gvyd",
    "outputId": "29087915-8443-4963-9daa-169834778ff6"
   },
   "outputs": [],
   "source": [
    "df1.drop(np.arange(10))"
   ]
  },
  {
   "cell_type": "markdown",
   "metadata": {},
   "source": [
    "**fancy indexing**을 활용하여 삭제할 수 있습니다."
   ]
  },
  {
   "cell_type": "code",
   "execution_count": null,
   "metadata": {},
   "outputs": [],
   "source": [
    "df1.drop([1, 3, 5, 7, 9])"
   ]
  },
  {
   "cell_type": "markdown",
   "metadata": {
    "id": "9DSbXYcUGvye"
   },
   "source": [
    "### 열 (column) 삭제"
   ]
  },
  {
   "cell_type": "code",
   "execution_count": null,
   "metadata": {},
   "outputs": [],
   "source": [
    "df1.head()"
   ]
  },
  {
   "cell_type": "markdown",
   "metadata": {},
   "source": [
    "열 삭제시 **반드시 `axis=1` 옵션을 지정**해야 합니다. 2번째 위치에 지정시 `axis=`을 생략할 수 있습니다."
   ]
  },
  {
   "cell_type": "code",
   "execution_count": null,
   "metadata": {
    "colab": {
     "base_uri": "https://localhost:8080/",
     "height": 407
    },
    "id": "z1PJeVsvGvyf",
    "outputId": "4f6c6d2d-aec6-4141-8a83-658ec64aa422"
   },
   "outputs": [],
   "source": [
    "df1.drop('class', axis=1).head()"
   ]
  },
  {
   "cell_type": "code",
   "execution_count": null,
   "metadata": {},
   "outputs": [],
   "source": [
    "df1.drop('class', 1).head()"
   ]
  },
  {
   "cell_type": "markdown",
   "metadata": {},
   "source": [
    "**다수의 컬럼(column) 삭제**도 가능합니다."
   ]
  },
  {
   "cell_type": "code",
   "execution_count": null,
   "metadata": {
    "colab": {
     "base_uri": "https://localhost:8080/",
     "height": 407
    },
    "id": "nPA6iZSYGvyg",
    "outputId": "9d4675d6-4767-4c72-d684-e40b29a25a50"
   },
   "outputs": [],
   "source": [
    "df1.drop(['who', 'deck', 'alive'], axis=1)"
   ]
  },
  {
   "cell_type": "markdown",
   "metadata": {},
   "source": [
    "삭제된 내용을 바로 적용하려면 `inplace=True`를 지정합니다."
   ]
  },
  {
   "cell_type": "code",
   "execution_count": null,
   "metadata": {},
   "outputs": [],
   "source": [
    "df1.drop(['who', 'deck', 'alive'], axis=1, inplace=True)"
   ]
  },
  {
   "cell_type": "code",
   "execution_count": null,
   "metadata": {},
   "outputs": [],
   "source": [
    "df1.head()"
   ]
  },
  {
   "cell_type": "markdown",
   "metadata": {},
   "source": [
    "## 연습문제"
   ]
  },
  {
   "cell_type": "markdown",
   "metadata": {},
   "source": [
    "- `df1`에서 1, 3, 5번행을 삭제해 주세요\n",
    "- `df1`에서 `embarked`, `class`, `alone` 컬럼을 삭제해 주세요\n",
    "- `df1`의 상위 10개 행을 출력하세요"
   ]
  },
  {
   "cell_type": "code",
   "execution_count": null,
   "metadata": {},
   "outputs": [],
   "source": [
    "df1 = df.copy()"
   ]
  },
  {
   "cell_type": "code",
   "execution_count": null,
   "metadata": {},
   "outputs": [],
   "source": [
    "# 코드를 입력해 주세요\n"
   ]
  },
  {
   "cell_type": "markdown",
   "metadata": {},
   "source": [
    "<p><strong>[출력 결과]</strong></p><div>\n",
    "<style scoped>\n",
    "    .dataframe tbody tr th:only-of-type {\n",
    "        vertical-align: middle;\n",
    "    }\n",
    "\n",
    "    .dataframe tbody tr th {\n",
    "        vertical-align: top;\n",
    "    }\n",
    "\n",
    "    .dataframe thead th {\n",
    "        text-align: right;\n",
    "    }\n",
    "</style>\n",
    "<table border=\"1\" class=\"dataframe\">\n",
    "  <thead>\n",
    "    <tr style=\"text-align: right;\">\n",
    "      <th></th>\n",
    "      <th>survived</th>\n",
    "      <th>pclass</th>\n",
    "      <th>sex</th>\n",
    "      <th>age</th>\n",
    "      <th>sibsp</th>\n",
    "      <th>parch</th>\n",
    "      <th>fare</th>\n",
    "      <th>who</th>\n",
    "      <th>adult_male</th>\n",
    "      <th>deck</th>\n",
    "      <th>embark_town</th>\n",
    "      <th>alive</th>\n",
    "    </tr>\n",
    "  </thead>\n",
    "  <tbody>\n",
    "    <tr>\n",
    "      <th>0</th>\n",
    "      <td>0</td>\n",
    "      <td>3</td>\n",
    "      <td>male</td>\n",
    "      <td>22.0</td>\n",
    "      <td>1</td>\n",
    "      <td>0</td>\n",
    "      <td>7.2500</td>\n",
    "      <td>man</td>\n",
    "      <td>True</td>\n",
    "      <td>NaN</td>\n",
    "      <td>Southampton</td>\n",
    "      <td>no</td>\n",
    "    </tr>\n",
    "    <tr>\n",
    "      <th>2</th>\n",
    "      <td>1</td>\n",
    "      <td>3</td>\n",
    "      <td>female</td>\n",
    "      <td>26.0</td>\n",
    "      <td>0</td>\n",
    "      <td>0</td>\n",
    "      <td>7.9250</td>\n",
    "      <td>woman</td>\n",
    "      <td>False</td>\n",
    "      <td>NaN</td>\n",
    "      <td>Southampton</td>\n",
    "      <td>yes</td>\n",
    "    </tr>\n",
    "    <tr>\n",
    "      <th>4</th>\n",
    "      <td>0</td>\n",
    "      <td>3</td>\n",
    "      <td>male</td>\n",
    "      <td>35.0</td>\n",
    "      <td>0</td>\n",
    "      <td>0</td>\n",
    "      <td>8.0500</td>\n",
    "      <td>man</td>\n",
    "      <td>True</td>\n",
    "      <td>NaN</td>\n",
    "      <td>Southampton</td>\n",
    "      <td>no</td>\n",
    "    </tr>\n",
    "    <tr>\n",
    "      <th>6</th>\n",
    "      <td>0</td>\n",
    "      <td>1</td>\n",
    "      <td>male</td>\n",
    "      <td>54.0</td>\n",
    "      <td>0</td>\n",
    "      <td>0</td>\n",
    "      <td>51.8625</td>\n",
    "      <td>man</td>\n",
    "      <td>True</td>\n",
    "      <td>E</td>\n",
    "      <td>Southampton</td>\n",
    "      <td>no</td>\n",
    "    </tr>\n",
    "    <tr>\n",
    "      <th>7</th>\n",
    "      <td>0</td>\n",
    "      <td>3</td>\n",
    "      <td>male</td>\n",
    "      <td>2.0</td>\n",
    "      <td>3</td>\n",
    "      <td>1</td>\n",
    "      <td>21.0750</td>\n",
    "      <td>child</td>\n",
    "      <td>False</td>\n",
    "      <td>NaN</td>\n",
    "      <td>Southampton</td>\n",
    "      <td>no</td>\n",
    "    </tr>\n",
    "    <tr>\n",
    "      <th>8</th>\n",
    "      <td>1</td>\n",
    "      <td>3</td>\n",
    "      <td>female</td>\n",
    "      <td>27.0</td>\n",
    "      <td>0</td>\n",
    "      <td>2</td>\n",
    "      <td>11.1333</td>\n",
    "      <td>woman</td>\n",
    "      <td>False</td>\n",
    "      <td>NaN</td>\n",
    "      <td>Southampton</td>\n",
    "      <td>yes</td>\n",
    "    </tr>\n",
    "    <tr>\n",
    "      <th>9</th>\n",
    "      <td>1</td>\n",
    "      <td>2</td>\n",
    "      <td>female</td>\n",
    "      <td>14.0</td>\n",
    "      <td>1</td>\n",
    "      <td>0</td>\n",
    "      <td>30.0708</td>\n",
    "      <td>child</td>\n",
    "      <td>False</td>\n",
    "      <td>NaN</td>\n",
    "      <td>Cherbourg</td>\n",
    "      <td>yes</td>\n",
    "    </tr>\n",
    "    <tr>\n",
    "      <th>10</th>\n",
    "      <td>1</td>\n",
    "      <td>3</td>\n",
    "      <td>female</td>\n",
    "      <td>4.0</td>\n",
    "      <td>1</td>\n",
    "      <td>1</td>\n",
    "      <td>16.7000</td>\n",
    "      <td>child</td>\n",
    "      <td>False</td>\n",
    "      <td>G</td>\n",
    "      <td>Southampton</td>\n",
    "      <td>yes</td>\n",
    "    </tr>\n",
    "    <tr>\n",
    "      <th>11</th>\n",
    "      <td>1</td>\n",
    "      <td>1</td>\n",
    "      <td>female</td>\n",
    "      <td>58.0</td>\n",
    "      <td>0</td>\n",
    "      <td>0</td>\n",
    "      <td>26.5500</td>\n",
    "      <td>woman</td>\n",
    "      <td>False</td>\n",
    "      <td>C</td>\n",
    "      <td>Southampton</td>\n",
    "      <td>yes</td>\n",
    "    </tr>\n",
    "    <tr>\n",
    "      <th>12</th>\n",
    "      <td>0</td>\n",
    "      <td>3</td>\n",
    "      <td>male</td>\n",
    "      <td>20.0</td>\n",
    "      <td>0</td>\n",
    "      <td>0</td>\n",
    "      <td>8.0500</td>\n",
    "      <td>man</td>\n",
    "      <td>True</td>\n",
    "      <td>NaN</td>\n",
    "      <td>Southampton</td>\n",
    "      <td>no</td>\n",
    "    </tr>\n",
    "  </tbody>\n",
    "</table>\n",
    "</div>"
   ]
  },
  {
   "cell_type": "markdown",
   "metadata": {
    "id": "tQkhT7BCGvyO"
   },
   "source": [
    "## 컬럼간 연산\n",
    "\n",
    "**컬럼(column) 과 컬럼 사이의 연산을 매우 쉽게 적용**할 수 있습니다."
   ]
  },
  {
   "cell_type": "code",
   "execution_count": null,
   "metadata": {},
   "outputs": [],
   "source": [
    "df1 = df.copy()"
   ]
  },
  {
   "cell_type": "markdown",
   "metadata": {},
   "source": [
    "**family(가족)**의 총합은 **sibsp**컬럼과 **parch**의 합산으로 구할 수 있습니다."
   ]
  },
  {
   "cell_type": "code",
   "execution_count": null,
   "metadata": {
    "id": "HpAJjAZfGvyO"
   },
   "outputs": [],
   "source": [
    "df1['family'] = df1['sibsp'] + df1['parch']"
   ]
  },
  {
   "cell_type": "code",
   "execution_count": null,
   "metadata": {},
   "outputs": [],
   "source": [
    "df1.head()"
   ]
  },
  {
   "cell_type": "markdown",
   "metadata": {},
   "source": [
    "**문자열의 합 (이어붙히기)도 가능**합니다."
   ]
  },
  {
   "cell_type": "code",
   "execution_count": null,
   "metadata": {
    "colab": {
     "base_uri": "https://localhost:8080/",
     "height": 198
    },
    "id": "EMuKaz_TGvyP",
    "outputId": "09378086-47b5-4dc9-c86c-d809ab3393a6"
   },
   "outputs": [],
   "source": [
    "df1['gender'] = df1['who'] + '-' + df1['sex']"
   ]
  },
  {
   "cell_type": "code",
   "execution_count": null,
   "metadata": {},
   "outputs": [],
   "source": [
    "df1.head()"
   ]
  },
  {
   "cell_type": "markdown",
   "metadata": {},
   "source": [
    "컬럼간 연산시 `round()`를 사용하여 소수점 자릿수를 지정할 수 있습니다."
   ]
  },
  {
   "cell_type": "markdown",
   "metadata": {
    "id": "1ZLc_N0WGvyS"
   },
   "source": [
    "**round(숫자, 소수 몇 째자리)**"
   ]
  },
  {
   "cell_type": "code",
   "execution_count": null,
   "metadata": {
    "id": "sNycijIgGvyS"
   },
   "outputs": [],
   "source": [
    "df1['round'] = round(df1['fare'] / df1['age'], 2)"
   ]
  },
  {
   "cell_type": "code",
   "execution_count": null,
   "metadata": {},
   "outputs": [],
   "source": [
    "df1.head()"
   ]
  },
  {
   "cell_type": "markdown",
   "metadata": {},
   "source": [
    "연산시 1개의 컬럼이라도 **NaN 값을 포함하고 있다면 결과는 NaN** 이 됩니다."
   ]
  },
  {
   "cell_type": "code",
   "execution_count": null,
   "metadata": {},
   "outputs": [],
   "source": [
    "df1.loc[df1['age'].isnull(), 'deck':].head()"
   ]
  },
  {
   "cell_type": "markdown",
   "metadata": {},
   "source": [
    "## 타입 변환 (astype)"
   ]
  },
  {
   "cell_type": "code",
   "execution_count": null,
   "metadata": {},
   "outputs": [],
   "source": [
    "df1 = df.copy()"
   ]
  },
  {
   "cell_type": "code",
   "execution_count": null,
   "metadata": {},
   "outputs": [],
   "source": [
    "df1.info()"
   ]
  },
  {
   "cell_type": "markdown",
   "metadata": {},
   "source": [
    "`int32`로 변경"
   ]
  },
  {
   "cell_type": "code",
   "execution_count": null,
   "metadata": {},
   "outputs": [],
   "source": [
    "df1['pclass'].astype('int32').head()"
   ]
  },
  {
   "cell_type": "markdown",
   "metadata": {},
   "source": [
    "`float32`로 변경"
   ]
  },
  {
   "cell_type": "code",
   "execution_count": null,
   "metadata": {},
   "outputs": [],
   "source": [
    "df1['pclass'].astype('float32').head()"
   ]
  },
  {
   "cell_type": "markdown",
   "metadata": {},
   "source": [
    "`object`로 변경"
   ]
  },
  {
   "cell_type": "code",
   "execution_count": null,
   "metadata": {},
   "outputs": [],
   "source": [
    "df1['pclass'].astype('str').head()"
   ]
  },
  {
   "cell_type": "markdown",
   "metadata": {},
   "source": [
    "`category`로 변경.\n",
    "\n",
    "`category`로 변경시에는 Categories가 같이 출력 됩니다."
   ]
  },
  {
   "cell_type": "code",
   "execution_count": null,
   "metadata": {},
   "outputs": [],
   "source": [
    "df1['who'].value_counts()"
   ]
  },
  {
   "cell_type": "code",
   "execution_count": null,
   "metadata": {},
   "outputs": [],
   "source": [
    "df1['who'].dtype"
   ]
  },
  {
   "cell_type": "code",
   "execution_count": null,
   "metadata": {},
   "outputs": [],
   "source": [
    "df1['who'].astype('category').head()"
   ]
  },
  {
   "cell_type": "markdown",
   "metadata": {},
   "source": [
    "타입을 `category`로 변환했다면 **.cat**으로 접근하여 category 타입이 제공하는 **attribute를 사용**할 수 있습니다."
   ]
  },
  {
   "cell_type": "code",
   "execution_count": null,
   "metadata": {},
   "outputs": [],
   "source": [
    "df1['who'] = df1['who'].astype('category')"
   ]
  },
  {
   "cell_type": "code",
   "execution_count": null,
   "metadata": {},
   "outputs": [],
   "source": [
    "df1['who'].dtype"
   ]
  },
  {
   "cell_type": "code",
   "execution_count": null,
   "metadata": {},
   "outputs": [],
   "source": [
    "df1['who'].cat.codes"
   ]
  },
  {
   "cell_type": "markdown",
   "metadata": {},
   "source": [
    "**카테고리 이름 변경**"
   ]
  },
  {
   "cell_type": "code",
   "execution_count": null,
   "metadata": {},
   "outputs": [],
   "source": [
    "[f'Group({g})' for g in df1['who'].cat.categories]"
   ]
  },
  {
   "cell_type": "code",
   "execution_count": null,
   "metadata": {},
   "outputs": [],
   "source": [
    "df1['who'].cat.categories = [f'Group({g})' for g in df1['who'].cat.categories]\n",
    "df1['who'].value_counts()"
   ]
  },
  {
   "cell_type": "markdown",
   "metadata": {
    "id": "zcPPwjk3zOHd"
   },
   "source": [
    "## datetime - 날짜, 시간"
   ]
  },
  {
   "cell_type": "markdown",
   "metadata": {},
   "source": [
    "### date_range\n",
    "\n",
    "주요 옵션 값\n",
    "- **start**: 시작 날짜\n",
    "- **end**: 끝 날짜\n",
    "- **periods**: 생성할 데이터 개수\n",
    "- **freq**: 주기"
   ]
  },
  {
   "cell_type": "code",
   "execution_count": null,
   "metadata": {
    "id": "RdVLy-HZzOHd"
   },
   "outputs": [],
   "source": [
    "dates = pd.date_range('20210101', periods=df.shape[0], freq='15H')\n",
    "dates.shape"
   ]
  },
  {
   "cell_type": "code",
   "execution_count": null,
   "metadata": {
    "id": "0gUsPeMBzOHf"
   },
   "outputs": [],
   "source": [
    "df1 = df.copy()\n",
    "df1.head()"
   ]
  },
  {
   "cell_type": "markdown",
   "metadata": {},
   "source": [
    "**date의 컬럼**을 만들어 생성한 **date 를 대입**합니다."
   ]
  },
  {
   "cell_type": "code",
   "execution_count": null,
   "metadata": {
    "id": "6a1nabuXzOHh"
   },
   "outputs": [],
   "source": [
    "df1['date'] = dates\n",
    "df1.head()"
   ]
  },
  {
   "cell_type": "code",
   "execution_count": null,
   "metadata": {
    "colab": {
     "base_uri": "https://localhost:8080/",
     "height": 290
    },
    "id": "mjGcxmd4zOHj",
    "outputId": "e5b8f0c3-a27c-409c-bb52-2f87f6dcf269"
   },
   "outputs": [],
   "source": [
    "df1.info()"
   ]
  },
  {
   "cell_type": "markdown",
   "metadata": {},
   "source": [
    "**date**의 컬럼에 `datetime64`라는 데이터 타입이 표기됩니다."
   ]
  },
  {
   "cell_type": "markdown",
   "metadata": {},
   "source": [
    "### datetime 타입\n",
    "\n",
    "`datetime` 타입에서는 **dt** 접근자로 다음과 같은 날짜 속성에 쉽게 접근할 수 있습니다.\n",
    "\n",
    "Pandas의 **dt (datetime) 날짜 관련 변수**는 다음과 같습니다."
   ]
  },
  {
   "cell_type": "markdown",
   "metadata": {},
   "source": [
    "[도큐먼트](https://pandas.pydata.org/pandas-docs/stable/reference/api/pandas.DatetimeIndex.year.html)"
   ]
  },
  {
   "cell_type": "markdown",
   "metadata": {
    "id": "0D1j3ReZ0F4M"
   },
   "source": [
    "- pandas.Series.dt.year: 연도\n",
    "- pandas.Series.dt.month: 월\n",
    "- pandas.Series.dt.day: 일\n",
    "- pandas.Series.dt.hour: 시\n",
    "- pandas.Series.dt.minute: 분\n",
    "- pandas.Series.dt.second: 초\n",
    "- pandas.Series.dt.microsecond: micro 초\n",
    "- pandas.Series.dt.nanosecond: nano 초\n",
    "- pandas.Series.dt.week: 주\n",
    "- pandas.Series.dt.weekofyear: 연중 몇 째주\n",
    "- pandas.Series.dt.dayofweek: 요일\n",
    "- pandas.Series.dt.weekday: 요일 (dayofweek과 동일)\n",
    "- pandas.Series.dt.dayofyear: 연중 몇 번째 날\n",
    "- pandas.Series.dt.quarter: 분기"
   ]
  },
  {
   "cell_type": "code",
   "execution_count": null,
   "metadata": {
    "colab": {
     "base_uri": "https://localhost:8080/",
     "height": 126
    },
    "id": "5qDG01NYzOHk",
    "outputId": "eb3968ff-052d-48f8-aafb-997b3e73ef27"
   },
   "outputs": [],
   "source": [
    "# 연도\n",
    "df1['date'].dt.year.head()"
   ]
  },
  {
   "cell_type": "code",
   "execution_count": null,
   "metadata": {
    "colab": {
     "base_uri": "https://localhost:8080/",
     "height": 126
    },
    "id": "rlpBmqeSzOHl",
    "outputId": "fe407272-776b-4597-f03c-fd3536d0dab1"
   },
   "outputs": [],
   "source": [
    "# 월\n",
    "df1['date'].dt.month.head()"
   ]
  },
  {
   "cell_type": "code",
   "execution_count": null,
   "metadata": {
    "colab": {
     "base_uri": "https://localhost:8080/",
     "height": 126
    },
    "id": "mNha0PlczOHl",
    "outputId": "36833e06-d2da-4ef1-b70c-008f3f68b705"
   },
   "outputs": [],
   "source": [
    "# 일\n",
    "df1['date'].dt.day.head()"
   ]
  },
  {
   "cell_type": "markdown",
   "metadata": {
    "id": "gWKBubiszOHm"
   },
   "source": [
    "**dayofweek**는 숫자로 요일이 표기 됩니다.\n",
    "- 월요일: 0, 일요일: 6"
   ]
  },
  {
   "cell_type": "code",
   "execution_count": null,
   "metadata": {
    "colab": {
     "base_uri": "https://localhost:8080/",
     "height": 126
    },
    "id": "2nQRmNLPzOHm",
    "outputId": "1576d33e-2ad1-4a51-9723-dcdcf117abdf"
   },
   "outputs": [],
   "source": [
    "df1['date'].dt.dayofweek.head(10)"
   ]
  },
  {
   "cell_type": "markdown",
   "metadata": {},
   "source": [
    "### to_datetime"
   ]
  },
  {
   "cell_type": "code",
   "execution_count": null,
   "metadata": {},
   "outputs": [],
   "source": [
    "# e notation 표현 방식 변경\n",
    "pd.options.display.float_format = '{:.2f}'.format"
   ]
  },
  {
   "cell_type": "markdown",
   "metadata": {},
   "source": [
    "샘플용 **서울시 공공자전거 데이터를 로드**합니다."
   ]
  },
  {
   "cell_type": "code",
   "execution_count": null,
   "metadata": {},
   "outputs": [],
   "source": [
    "!pip install teddynote -q\n",
    "\n",
    "from teddynote import dataset\n",
    "\n",
    "dataset.download('서울시자전거')"
   ]
  },
  {
   "cell_type": "code",
   "execution_count": null,
   "metadata": {},
   "outputs": [],
   "source": [
    "import pandas as pd"
   ]
  },
  {
   "cell_type": "code",
   "execution_count": null,
   "metadata": {},
   "outputs": [],
   "source": [
    "# 데이터셋 로드\n",
    "df2 = pd.read_csv('data/seoul_bicycle.csv')\n",
    "df2.head()"
   ]
  },
  {
   "cell_type": "code",
   "execution_count": null,
   "metadata": {},
   "outputs": [],
   "source": [
    "df2.info()"
   ]
  },
  {
   "cell_type": "markdown",
   "metadata": {},
   "source": [
    "**대여일자** 컬럼은 날짜 관련 컬럼처럼 보이나 `info()`는 object로 인식하였습니다.\n",
    "\n",
    "`datetime`타입으로 변경해야 .dt 접근자를 사용할 수 있습니다."
   ]
  },
  {
   "cell_type": "markdown",
   "metadata": {},
   "source": [
    "**`pd.to_datetime()`**: datetime type으로 변환합니다."
   ]
  },
  {
   "cell_type": "code",
   "execution_count": null,
   "metadata": {},
   "outputs": [],
   "source": [
    "pd.to_datetime(df2['대여일자'])"
   ]
  },
  {
   "cell_type": "markdown",
   "metadata": {},
   "source": [
    "재대입하여 **컬럼에 적용**합니다."
   ]
  },
  {
   "cell_type": "code",
   "execution_count": null,
   "metadata": {},
   "outputs": [],
   "source": [
    "df2['대여일자'] = pd.to_datetime(df2['대여일자'])"
   ]
  },
  {
   "cell_type": "code",
   "execution_count": null,
   "metadata": {},
   "outputs": [],
   "source": [
    "df2.info()"
   ]
  },
  {
   "cell_type": "markdown",
   "metadata": {},
   "source": [
    "적용된 후 `.dt`접근자를 활용하여 datetime 속성에 접근할 수 있습니다."
   ]
  },
  {
   "cell_type": "code",
   "execution_count": null,
   "metadata": {},
   "outputs": [],
   "source": [
    "df2['대여일자'].dt.year"
   ]
  },
  {
   "cell_type": "code",
   "execution_count": null,
   "metadata": {},
   "outputs": [],
   "source": [
    "df2['대여일자'].dt.month"
   ]
  },
  {
   "cell_type": "code",
   "execution_count": null,
   "metadata": {},
   "outputs": [],
   "source": [
    "df2['대여일자'].dt.day"
   ]
  },
  {
   "cell_type": "code",
   "execution_count": null,
   "metadata": {},
   "outputs": [],
   "source": [
    "df2['대여일자'].dt.dayofweek"
   ]
  },
  {
   "cell_type": "markdown",
   "metadata": {},
   "source": [
    "## pd.to_numeric() - 수치형 변환\n",
    "\n",
    "object나 numerical type이 아닌 컬럼을 **수치형(numerical) 컬럼으로 변환**할 때 사용합니다."
   ]
  },
  {
   "cell_type": "code",
   "execution_count": null,
   "metadata": {},
   "outputs": [],
   "source": [
    "df2.head()"
   ]
  },
  {
   "cell_type": "code",
   "execution_count": null,
   "metadata": {},
   "outputs": [],
   "source": [
    "df2.info()"
   ]
  },
  {
   "cell_type": "markdown",
   "metadata": {},
   "source": [
    "**운동량** 컬럼은 숫자형 컬럼 처럼 보이지만, **object 타입으로 지정**되어 있습니다. \n",
    "\n",
    "종종 이런 현상이 발생하는데, 이런 현상을 만들어낸 이유는 분명 존재합니다!\n",
    "\n",
    "원인 파악을 위해서 일단 `pd.to_numeric()`으로 **변환을 시도**합니다."
   ]
  },
  {
   "cell_type": "code",
   "execution_count": null,
   "metadata": {},
   "outputs": [],
   "source": [
    "pd.to_numeric(df2['운동량'])"
   ]
  },
  {
   "cell_type": "markdown",
   "metadata": {},
   "source": [
    "**2344 position**에 무언가 에러가 발생하였습니다."
   ]
  },
  {
   "cell_type": "code",
   "execution_count": null,
   "metadata": {},
   "outputs": [],
   "source": [
    "df2.loc[2344]"
   ]
  },
  {
   "cell_type": "markdown",
   "metadata": {},
   "source": [
    "운동량에 숫자형이 아닌 개행 (\\N)이 들어가 있기 때문에 이러한 에러가 발생하였습니다.\n",
    "\n",
    "숫자형으로 바꿀 때 **NaN값이나 숫자로 변환이 불가능한 문자열이 존재할 때 변환에 실패**하게 됩니다."
   ]
  },
  {
   "cell_type": "markdown",
   "metadata": {},
   "source": [
    "`errors=` 옵션 값을 바꾸어 해결할 수 있습니다.\n",
    "\n",
    "errors : {'ignore', 'raise', 'coerce'}, default 'raise'\n",
    "- If 'raise', then invalid parsing will raise an exception\n",
    "- If 'coerce', then invalid parsing will be set as NaN\n",
    "- If 'ignore', then invalid parsing will return the input"
   ]
  },
  {
   "cell_type": "markdown",
   "metadata": {},
   "source": [
    "`errors='coerce'`로 지정하면 잘못된 문자열은 **NaN 값으로 치환하여 변환**합니다. \n",
    "\n",
    "그리고, 결과 확인시 잘 변환이 된 것을 볼 수 있습니다."
   ]
  },
  {
   "cell_type": "code",
   "execution_count": null,
   "metadata": {},
   "outputs": [],
   "source": [
    "pd.to_numeric(df2['운동량'], errors='coerce')"
   ]
  },
  {
   "cell_type": "code",
   "execution_count": null,
   "metadata": {},
   "outputs": [],
   "source": [
    "pd.to_numeric(df2['운동량'], errors='coerce').loc[2344]"
   ]
  },
  {
   "cell_type": "markdown",
   "metadata": {},
   "source": [
    "`errors='ignore'`로 지정하게 되면 잘못된 문자열이 숫자로 **변환이 안되고 무시**하기 때문에 전체 컬럼의 dtype이 **object로 그대로 남아있습니다.**"
   ]
  },
  {
   "cell_type": "code",
   "execution_count": null,
   "metadata": {},
   "outputs": [],
   "source": [
    "pd.to_numeric(df2['운동량'], errors='ignore')"
   ]
  },
  {
   "cell_type": "code",
   "execution_count": null,
   "metadata": {},
   "outputs": [],
   "source": [
    "pd.to_numeric(df2['운동량'], errors='ignore').loc[2344]"
   ]
  },
  {
   "cell_type": "markdown",
   "metadata": {},
   "source": [
    "재대입까지 마무리 해야 DataFrame에 적용됩니다."
   ]
  },
  {
   "cell_type": "code",
   "execution_count": null,
   "metadata": {},
   "outputs": [],
   "source": [
    "df2['운동량'] = pd.to_numeric(df2['운동량'], errors='coerce')"
   ]
  },
  {
   "cell_type": "code",
   "execution_count": null,
   "metadata": {},
   "outputs": [],
   "source": [
    "df2.info()"
   ]
  },
  {
   "cell_type": "markdown",
   "metadata": {},
   "source": [
    "## pd.cut() - 구간 나누기(binning)\n",
    "\n",
    "연속된 수치(continuous values)를 **구간으로 나누어 카테고리화** 할 때 사용합니다."
   ]
  },
  {
   "cell_type": "code",
   "execution_count": null,
   "metadata": {},
   "outputs": [],
   "source": [
    "df2.head()"
   ]
  },
  {
   "cell_type": "markdown",
   "metadata": {},
   "source": [
    "직접 범위 설정을 해줄 수 있습니다.\n",
    "- `right=False`로 지정시 우측 범위를 포함하지 않습니다."
   ]
  },
  {
   "cell_type": "code",
   "execution_count": null,
   "metadata": {},
   "outputs": [],
   "source": [
    "bins = [0, 200, 400, df2['운동량'].max()]\n",
    "pd.cut(df2['운동량'], bins, right=False)"
   ]
  },
  {
   "cell_type": "markdown",
   "metadata": {},
   "source": [
    "`labels`를 지정해 줄 수 있으며, 지정한 bins의 개수보다 1 개가 적어야 합니다."
   ]
  },
  {
   "cell_type": "code",
   "execution_count": null,
   "metadata": {},
   "outputs": [],
   "source": [
    "labels = ['운동부족', '보통', '많음']"
   ]
  },
  {
   "cell_type": "code",
   "execution_count": null,
   "metadata": {},
   "outputs": [],
   "source": [
    "pd.cut(df2['운동량'], bins, labels=labels, right=False)"
   ]
  },
  {
   "cell_type": "code",
   "execution_count": null,
   "metadata": {},
   "outputs": [],
   "source": [
    "df2.describe()"
   ]
  },
  {
   "cell_type": "markdown",
   "metadata": {},
   "source": [
    "운동량은 범위가 굉장히 넓습니다. **최소값은 0인데, 최대값은 엄청 큰 값**이 존재합니다."
   ]
  },
  {
   "cell_type": "markdown",
   "metadata": {},
   "source": [
    "어쨌든, 운동량을 기준으로 데이터를 10개 그룹으로 분류하고 싶습니다.\n",
    "\n",
    "`pd.cut()`을 활용하여 쉽게 그룹을 나눌 수 있습니다."
   ]
  },
  {
   "cell_type": "code",
   "execution_count": null,
   "metadata": {},
   "outputs": [],
   "source": [
    "df2.head()"
   ]
  },
  {
   "cell_type": "markdown",
   "metadata": {},
   "source": [
    "`bins` 옵션에 나누고자 하는 **구간의 개수**를 설정합니다."
   ]
  },
  {
   "cell_type": "code",
   "execution_count": null,
   "metadata": {},
   "outputs": [],
   "source": [
    "df2['운동량_cut'] = pd.cut(df2['운동량'], bins=10)"
   ]
  },
  {
   "cell_type": "code",
   "execution_count": null,
   "metadata": {},
   "outputs": [],
   "source": [
    "df2['운동량_cut'].value_counts()"
   ]
  },
  {
   "cell_type": "markdown",
   "metadata": {},
   "source": [
    "분포를 보니 첫 구간에 대부분의 데이터가 쏠려 있습니다. 딱봐도 올바르지 않은 방법 같아 보입니다.\n",
    "\n",
    "`pd.cut()`은 **최소에서 최대 구간을 지정한 bin만큼 동일하게 분할** 하기 때문에 이런 현상이 발생할 수 있습니다.\n",
    "\n",
    "고르게 분포한 데이터라면 괜찮지만, 튀는 **이상치(outlier)가 있는 경우에는 안 좋은 결과**를 초래 합니다."
   ]
  },
  {
   "cell_type": "markdown",
   "metadata": {},
   "source": [
    "## pd.qcut() - 동일한 개수를 갖도록 구간 분할\n",
    "\n",
    "`pd.cut()`과 유사하지만, **quantity 즉 데이터의 분포를 최대한 비슷하게 유지**하는 구간을 분할 합니다."
   ]
  },
  {
   "cell_type": "code",
   "execution_count": null,
   "metadata": {},
   "outputs": [],
   "source": [
    "df2['운동량_qcut'] = pd.qcut(df2['운동량'], q=10)"
   ]
  },
  {
   "cell_type": "code",
   "execution_count": null,
   "metadata": {},
   "outputs": [],
   "source": [
    "df2['운동량_qcut'].value_counts()"
   ]
  },
  {
   "cell_type": "markdown",
   "metadata": {},
   "source": [
    "구간도 예쁘게 분할(**균등하게 분할**)이 된 것 처럼 보입니다. 하지만, **간격은 일정하지 않습니다.**"
   ]
  },
  {
   "cell_type": "markdown",
   "metadata": {},
   "source": [
    "qcut 또한 임의 범위를 조정할 수 있습니다."
   ]
  },
  {
   "cell_type": "code",
   "execution_count": null,
   "metadata": {},
   "outputs": [],
   "source": [
    "qcut_bins = [0, 0.2, 0.8, 1]"
   ]
  },
  {
   "cell_type": "code",
   "execution_count": null,
   "metadata": {},
   "outputs": [],
   "source": [
    "pd.qcut(df2['운동량'], qcut_bins)"
   ]
  },
  {
   "cell_type": "markdown",
   "metadata": {},
   "source": [
    "qcut 역시 label을 지정할 수 있습니다. 마찬가지로 범위 수보다 1개 적게 설정합니다."
   ]
  },
  {
   "cell_type": "code",
   "execution_count": null,
   "metadata": {},
   "outputs": [],
   "source": [
    "qcut_labels = ['적음', '보통', '많음']"
   ]
  },
  {
   "cell_type": "code",
   "execution_count": null,
   "metadata": {},
   "outputs": [],
   "source": [
    "pd.qcut(df2['운동량'], qcut_bins, labels=qcut_labels).value_counts()"
   ]
  }
 ],
 "metadata": {
  "colab": {
   "collapsed_sections": [],
   "name": "06-pandas-전처리-추가-삭제-데이터변환 (실습)",
   "provenance": []
  },
  "kernelspec": {
   "display_name": "Python 3 (ipykernel)",
   "language": "python",
   "name": "python3"
  },
  "language_info": {
   "codemirror_mode": {
    "name": "ipython",
    "version": 3
   },
   "file_extension": ".py",
   "mimetype": "text/x-python",
   "name": "python",
   "nbconvert_exporter": "python",
   "pygments_lexer": "ipython3",
   "version": "3.7.11"
  }
 },
 "nbformat": 4,
 "nbformat_minor": 1
}
